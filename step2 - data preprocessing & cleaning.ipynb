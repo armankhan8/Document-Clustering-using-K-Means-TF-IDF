{
 "cells": [
  {
   "cell_type": "markdown",
   "id": "267d66d2-1570-4710-9932-be166ff4e859",
   "metadata": {},
   "source": [
    "# Data Collection Part"
   ]
  },
  {
   "cell_type": "code",
   "execution_count": 20,
   "id": "3d04771c-ee83-4ba1-ac0f-00e39fe2e64b",
   "metadata": {},
   "outputs": [],
   "source": [
    "import numpy as np  \n",
    "import pandas as pd\n",
    "from sklearn.datasets import fetch_20newsgroups  "
   ]
  },
  {
   "cell_type": "code",
   "execution_count": 22,
   "id": "eeb98aef-af58-43b8-b4b3-1fb34041ba8f",
   "metadata": {},
   "outputs": [
    {
     "name": "stdout",
     "output_type": "stream",
     "text": [
      "Total Documents Loaded: 18846\n"
     ]
    }
   ],
   "source": [
    "# Load full 20 Newsgroups dataset\n",
    "newsgroups = fetch_20newsgroups(subset='all', remove=('headers', 'footers', 'quotes'))\n",
    "documents = newsgroups.data\n",
    "print(\"Total Documents Loaded:\", len(documents))"
   ]
  },
  {
   "cell_type": "code",
   "execution_count": 23,
   "id": "9e43e6f1-4218-4a43-926e-518029c5ad7f",
   "metadata": {},
   "outputs": [],
   "source": [
    "categories = newsgroups.target_names\n",
    "labels = newsgroups.target  # Numerical category labels"
   ]
  },
  {
   "cell_type": "code",
   "execution_count": 24,
   "id": "5788d711-6f27-4901-826e-a2768039c981",
   "metadata": {},
   "outputs": [],
   "source": [
    "# Create a DataFrame\n",
    "df = pd.DataFrame({'Category': [categories[label] for label in labels], 'Text': documents})"
   ]
  },
  {
   "cell_type": "code",
   "execution_count": 25,
   "id": "52297a30-9bdc-4033-9605-f1ec003ca629",
   "metadata": {},
   "outputs": [
    {
     "name": "stdout",
     "output_type": "stream",
     "text": [
      "Dataset saved as 20newsgroups_dataset.csv\n"
     ]
    }
   ],
   "source": [
    "# Save to CSV file\n",
    "df.to_csv('20newsgroups_dataset.csv', index=False, encoding='utf-8')\n",
    "print(\"Dataset saved as 20newsgroups_dataset.csv\")"
   ]
  },
  {
   "cell_type": "code",
   "execution_count": 26,
   "id": "9427201d-9cfb-414d-ad49-0cb1d3007ca7",
   "metadata": {},
   "outputs": [
    {
     "data": {
      "text/html": [
       "<div>\n",
       "<style scoped>\n",
       "    .dataframe tbody tr th:only-of-type {\n",
       "        vertical-align: middle;\n",
       "    }\n",
       "\n",
       "    .dataframe tbody tr th {\n",
       "        vertical-align: top;\n",
       "    }\n",
       "\n",
       "    .dataframe thead th {\n",
       "        text-align: right;\n",
       "    }\n",
       "</style>\n",
       "<table border=\"1\" class=\"dataframe\">\n",
       "  <thead>\n",
       "    <tr style=\"text-align: right;\">\n",
       "      <th></th>\n",
       "      <th>Category</th>\n",
       "      <th>Text</th>\n",
       "    </tr>\n",
       "  </thead>\n",
       "  <tbody>\n",
       "    <tr>\n",
       "      <th>0</th>\n",
       "      <td>rec.sport.hockey</td>\n",
       "      <td>\\n\\nI am sure some bashers of Pens fans are pr...</td>\n",
       "    </tr>\n",
       "    <tr>\n",
       "      <th>1</th>\n",
       "      <td>comp.sys.ibm.pc.hardware</td>\n",
       "      <td>My brother is in the market for a high-perform...</td>\n",
       "    </tr>\n",
       "    <tr>\n",
       "      <th>2</th>\n",
       "      <td>talk.politics.mideast</td>\n",
       "      <td>\\n\\n\\n\\n\\tFinally you said what you dream abou...</td>\n",
       "    </tr>\n",
       "    <tr>\n",
       "      <th>3</th>\n",
       "      <td>comp.sys.ibm.pc.hardware</td>\n",
       "      <td>\\nThink!\\n\\nIt's the SCSI card doing the DMA t...</td>\n",
       "    </tr>\n",
       "    <tr>\n",
       "      <th>4</th>\n",
       "      <td>comp.sys.mac.hardware</td>\n",
       "      <td>1)    I have an old Jasmine drive which I cann...</td>\n",
       "    </tr>\n",
       "    <tr>\n",
       "      <th>...</th>\n",
       "      <td>...</td>\n",
       "      <td>...</td>\n",
       "    </tr>\n",
       "    <tr>\n",
       "      <th>18841</th>\n",
       "      <td>sci.med</td>\n",
       "      <td>DN&gt; From: nyeda@cnsvax.uwec.edu (David Nye)\\nD...</td>\n",
       "    </tr>\n",
       "    <tr>\n",
       "      <th>18842</th>\n",
       "      <td>sci.electronics</td>\n",
       "      <td>\\nNot in isolated ground recepticles (usually ...</td>\n",
       "    </tr>\n",
       "    <tr>\n",
       "      <th>18843</th>\n",
       "      <td>comp.sys.ibm.pc.hardware</td>\n",
       "      <td>I just installed a DX2-66 CPU in a clone mothe...</td>\n",
       "    </tr>\n",
       "    <tr>\n",
       "      <th>18844</th>\n",
       "      <td>comp.graphics</td>\n",
       "      <td>\\nWouldn't this require a hyper-sphere.  In 3-...</td>\n",
       "    </tr>\n",
       "    <tr>\n",
       "      <th>18845</th>\n",
       "      <td>rec.autos</td>\n",
       "      <td>After a tip from Gary Crum (crum@fcom.cc.utah....</td>\n",
       "    </tr>\n",
       "  </tbody>\n",
       "</table>\n",
       "<p>18846 rows × 2 columns</p>\n",
       "</div>"
      ],
      "text/plain": [
       "                       Category  \\\n",
       "0              rec.sport.hockey   \n",
       "1      comp.sys.ibm.pc.hardware   \n",
       "2         talk.politics.mideast   \n",
       "3      comp.sys.ibm.pc.hardware   \n",
       "4         comp.sys.mac.hardware   \n",
       "...                         ...   \n",
       "18841                   sci.med   \n",
       "18842           sci.electronics   \n",
       "18843  comp.sys.ibm.pc.hardware   \n",
       "18844             comp.graphics   \n",
       "18845                 rec.autos   \n",
       "\n",
       "                                                    Text  \n",
       "0      \\n\\nI am sure some bashers of Pens fans are pr...  \n",
       "1      My brother is in the market for a high-perform...  \n",
       "2      \\n\\n\\n\\n\\tFinally you said what you dream abou...  \n",
       "3      \\nThink!\\n\\nIt's the SCSI card doing the DMA t...  \n",
       "4      1)    I have an old Jasmine drive which I cann...  \n",
       "...                                                  ...  \n",
       "18841  DN> From: nyeda@cnsvax.uwec.edu (David Nye)\\nD...  \n",
       "18842  \\nNot in isolated ground recepticles (usually ...  \n",
       "18843  I just installed a DX2-66 CPU in a clone mothe...  \n",
       "18844  \\nWouldn't this require a hyper-sphere.  In 3-...  \n",
       "18845  After a tip from Gary Crum (crum@fcom.cc.utah....  \n",
       "\n",
       "[18846 rows x 2 columns]"
      ]
     },
     "execution_count": 26,
     "metadata": {},
     "output_type": "execute_result"
    }
   ],
   "source": [
    "df"
   ]
  },
  {
   "cell_type": "markdown",
   "id": "ff78464d-c8af-4852-95d7-a314adf8c30c",
   "metadata": {},
   "source": [
    "# Step 2: Data Preparation & Cleaning"
   ]
  },
  {
   "cell_type": "code",
   "execution_count": 37,
   "id": "c5fd0c79-a230-4f05-bd89-0e0d5fd23574",
   "metadata": {},
   "outputs": [
    {
     "name": "stdout",
     "output_type": "stream",
     "text": [
      "<class 'pandas.core.frame.DataFrame'>\n",
      "RangeIndex: 18846 entries, 0 to 18845\n",
      "Data columns (total 2 columns):\n",
      " #   Column    Non-Null Count  Dtype \n",
      "---  ------    --------------  ----- \n",
      " 0   Category  18846 non-null  object\n",
      " 1   Text      18846 non-null  object\n",
      "dtypes: object(2)\n",
      "memory usage: 294.6+ KB\n"
     ]
    }
   ],
   "source": [
    "df.info()"
   ]
  },
  {
   "cell_type": "code",
   "execution_count": 45,
   "id": "4895028b-93ff-4a19-98a4-3525f7a34792",
   "metadata": {},
   "outputs": [
    {
     "data": {
      "text/html": [
       "<div>\n",
       "<style scoped>\n",
       "    .dataframe tbody tr th:only-of-type {\n",
       "        vertical-align: middle;\n",
       "    }\n",
       "\n",
       "    .dataframe tbody tr th {\n",
       "        vertical-align: top;\n",
       "    }\n",
       "\n",
       "    .dataframe thead th {\n",
       "        text-align: right;\n",
       "    }\n",
       "</style>\n",
       "<table border=\"1\" class=\"dataframe\">\n",
       "  <thead>\n",
       "    <tr style=\"text-align: right;\">\n",
       "      <th></th>\n",
       "      <th>Category</th>\n",
       "      <th>Text</th>\n",
       "    </tr>\n",
       "  </thead>\n",
       "  <tbody>\n",
       "    <tr>\n",
       "      <th>count</th>\n",
       "      <td>18846</td>\n",
       "      <td>18846</td>\n",
       "    </tr>\n",
       "    <tr>\n",
       "      <th>unique</th>\n",
       "      <td>20</td>\n",
       "      <td>18287</td>\n",
       "    </tr>\n",
       "    <tr>\n",
       "      <th>top</th>\n",
       "      <td>rec.sport.hockey</td>\n",
       "      <td></td>\n",
       "    </tr>\n",
       "    <tr>\n",
       "      <th>freq</th>\n",
       "      <td>999</td>\n",
       "      <td>380</td>\n",
       "    </tr>\n",
       "  </tbody>\n",
       "</table>\n",
       "</div>"
      ],
      "text/plain": [
       "                Category   Text\n",
       "count              18846  18846\n",
       "unique                20  18287\n",
       "top     rec.sport.hockey       \n",
       "freq                 999    380"
      ]
     },
     "execution_count": 45,
     "metadata": {},
     "output_type": "execute_result"
    }
   ],
   "source": [
    "df.describe()"
   ]
  },
  {
   "cell_type": "code",
   "execution_count": 43,
   "id": "0480570a-7642-416b-80f3-66cac9ec2c2b",
   "metadata": {},
   "outputs": [
    {
     "data": {
      "text/plain": [
       "Category    0\n",
       "Text        0\n",
       "dtype: int64"
      ]
     },
     "execution_count": 43,
     "metadata": {},
     "output_type": "execute_result"
    }
   ],
   "source": [
    "df.isna().sum()"
   ]
  },
  {
   "cell_type": "code",
   "execution_count": 55,
   "id": "7ac85c83-8186-4397-9df6-dbc0ebdd5b8a",
   "metadata": {},
   "outputs": [],
   "source": [
    "# Drop rows where 'text' is NaN\n",
    "df.dropna(subset=['Text'], inplace=True)"
   ]
  },
  {
   "cell_type": "code",
   "execution_count": 57,
   "id": "e00d2c85-606d-4ae1-9cc7-dfbb507e0785",
   "metadata": {},
   "outputs": [
    {
     "data": {
      "text/plain": [
       "Category    0\n",
       "Text        0\n",
       "dtype: int64"
      ]
     },
     "execution_count": 57,
     "metadata": {},
     "output_type": "execute_result"
    }
   ],
   "source": [
    "# Check for null values again\n",
    "df.isnull().sum()"
   ]
  },
  {
   "cell_type": "code",
   "execution_count": 59,
   "id": "eb2d0b2f-6ef4-403f-a19c-afdcb6f37c54",
   "metadata": {},
   "outputs": [
    {
     "data": {
      "text/html": [
       "<div>\n",
       "<style scoped>\n",
       "    .dataframe tbody tr th:only-of-type {\n",
       "        vertical-align: middle;\n",
       "    }\n",
       "\n",
       "    .dataframe tbody tr th {\n",
       "        vertical-align: top;\n",
       "    }\n",
       "\n",
       "    .dataframe thead th {\n",
       "        text-align: right;\n",
       "    }\n",
       "</style>\n",
       "<table border=\"1\" class=\"dataframe\">\n",
       "  <thead>\n",
       "    <tr style=\"text-align: right;\">\n",
       "      <th></th>\n",
       "      <th>Category</th>\n",
       "      <th>Text</th>\n",
       "    </tr>\n",
       "  </thead>\n",
       "  <tbody>\n",
       "    <tr>\n",
       "      <th>0</th>\n",
       "      <td>rec.sport.hockey</td>\n",
       "      <td>\\n\\nI am sure some bashers of Pens fans are pr...</td>\n",
       "    </tr>\n",
       "    <tr>\n",
       "      <th>1</th>\n",
       "      <td>comp.sys.ibm.pc.hardware</td>\n",
       "      <td>My brother is in the market for a high-perform...</td>\n",
       "    </tr>\n",
       "    <tr>\n",
       "      <th>2</th>\n",
       "      <td>talk.politics.mideast</td>\n",
       "      <td>\\n\\n\\n\\n\\tFinally you said what you dream abou...</td>\n",
       "    </tr>\n",
       "    <tr>\n",
       "      <th>3</th>\n",
       "      <td>comp.sys.ibm.pc.hardware</td>\n",
       "      <td>\\nThink!\\n\\nIt's the SCSI card doing the DMA t...</td>\n",
       "    </tr>\n",
       "    <tr>\n",
       "      <th>4</th>\n",
       "      <td>comp.sys.mac.hardware</td>\n",
       "      <td>1)    I have an old Jasmine drive which I cann...</td>\n",
       "    </tr>\n",
       "    <tr>\n",
       "      <th>...</th>\n",
       "      <td>...</td>\n",
       "      <td>...</td>\n",
       "    </tr>\n",
       "    <tr>\n",
       "      <th>18841</th>\n",
       "      <td>sci.med</td>\n",
       "      <td>DN&gt; From: nyeda@cnsvax.uwec.edu (David Nye)\\nD...</td>\n",
       "    </tr>\n",
       "    <tr>\n",
       "      <th>18842</th>\n",
       "      <td>sci.electronics</td>\n",
       "      <td>\\nNot in isolated ground recepticles (usually ...</td>\n",
       "    </tr>\n",
       "    <tr>\n",
       "      <th>18843</th>\n",
       "      <td>comp.sys.ibm.pc.hardware</td>\n",
       "      <td>I just installed a DX2-66 CPU in a clone mothe...</td>\n",
       "    </tr>\n",
       "    <tr>\n",
       "      <th>18844</th>\n",
       "      <td>comp.graphics</td>\n",
       "      <td>\\nWouldn't this require a hyper-sphere.  In 3-...</td>\n",
       "    </tr>\n",
       "    <tr>\n",
       "      <th>18845</th>\n",
       "      <td>rec.autos</td>\n",
       "      <td>After a tip from Gary Crum (crum@fcom.cc.utah....</td>\n",
       "    </tr>\n",
       "  </tbody>\n",
       "</table>\n",
       "<p>18466 rows × 2 columns</p>\n",
       "</div>"
      ],
      "text/plain": [
       "                       Category  \\\n",
       "0              rec.sport.hockey   \n",
       "1      comp.sys.ibm.pc.hardware   \n",
       "2         talk.politics.mideast   \n",
       "3      comp.sys.ibm.pc.hardware   \n",
       "4         comp.sys.mac.hardware   \n",
       "...                         ...   \n",
       "18841                   sci.med   \n",
       "18842           sci.electronics   \n",
       "18843  comp.sys.ibm.pc.hardware   \n",
       "18844             comp.graphics   \n",
       "18845                 rec.autos   \n",
       "\n",
       "                                                    Text  \n",
       "0      \\n\\nI am sure some bashers of Pens fans are pr...  \n",
       "1      My brother is in the market for a high-perform...  \n",
       "2      \\n\\n\\n\\n\\tFinally you said what you dream abou...  \n",
       "3      \\nThink!\\n\\nIt's the SCSI card doing the DMA t...  \n",
       "4      1)    I have an old Jasmine drive which I cann...  \n",
       "...                                                  ...  \n",
       "18841  DN> From: nyeda@cnsvax.uwec.edu (David Nye)\\nD...  \n",
       "18842  \\nNot in isolated ground recepticles (usually ...  \n",
       "18843  I just installed a DX2-66 CPU in a clone mothe...  \n",
       "18844  \\nWouldn't this require a hyper-sphere.  In 3-...  \n",
       "18845  After a tip from Gary Crum (crum@fcom.cc.utah....  \n",
       "\n",
       "[18466 rows x 2 columns]"
      ]
     },
     "execution_count": 59,
     "metadata": {},
     "output_type": "execute_result"
    }
   ],
   "source": [
    "df"
   ]
  },
  {
   "cell_type": "code",
   "execution_count": 102,
   "id": "1861bc7c-0cfa-4cef-a5de-61622be3bd20",
   "metadata": {},
   "outputs": [],
   "source": [
    "# Import required libraries\n",
    "from sklearn.datasets import fetch_20newsgroups\n",
    "import pandas as pd\n",
    "import re\n",
    "import nltk\n",
    "from nltk.corpus import stopwords\n",
    "from nltk.stem import WordNetLemmatizer"
   ]
  },
  {
   "cell_type": "raw",
   "id": "4d98da64-ac4f-4c96-8333-dcb5b3d19093",
   "metadata": {},
   "source": [
    "1. re (Regular Expressions):\n",
    "Purpose: Unwanted characters, digits, symbols, HTML tags, etc. remove karne ke liye use hota hai.\n",
    "\n",
    "2. stopwords – Bakwaas common words hataane ke liye\n",
    "Purpose: Aise words jaise “the”, “is”, “in”, “and”, “a”, “an” etc. jo har sentence mein hote hain lekin kuch khaas meaning nahi rakhte.\n",
    "\n",
    "3. WordNetLemmatizer – Root form nikaalne ke liye\n",
    "Purpose: Words ko unke original (root) form mein convert karta hai.\n",
    "\n",
    "Example:\n",
    "“running”, “ran” → “run”\n",
    "“studies”, “studying” → “study”"
   ]
  },
  {
   "cell_type": "code",
   "execution_count": null,
   "id": "8459f021-419a-4355-a107-8517dd0a4822",
   "metadata": {},
   "outputs": [],
   "source": []
  },
  {
   "cell_type": "code",
   "execution_count": 67,
   "id": "162c3661-38fc-41ea-8ed4-d57af98a3f87",
   "metadata": {},
   "outputs": [],
   "source": [
    "# Define text cleaning function\n",
    "def clean_text(text):\n",
    "    text = re.sub(r'<.*?>', '', text)                 # Remove HTML tags\n",
    "    text = re.sub(r'[^a-zA-Z]', ' ', text)            # Remove special characters/digits\n",
    "    text = text.lower()                               # Convert to lowercase\n",
    "    words = text.split()\n",
    "    words = [w for w in words if w not in stopwords.words('english')]  # Remove stopwords\n",
    "    lemmatizer = WordNetLemmatizer()\n",
    "    words = [lemmatizer.lemmatize(w) for w in words]  # Lemmatization\n",
    "    return ' '.join(words)"
   ]
  },
  {
   "cell_type": "code",
   "execution_count": 71,
   "id": "b00d99a7-9968-44a7-a6ed-c12ddc1a82de",
   "metadata": {},
   "outputs": [],
   "source": [
    "# Apply the clean_text function to 'text' column\n",
    "df['clean_text'] = df['Text'].apply(clean_text)"
   ]
  },
  {
   "cell_type": "code",
   "execution_count": 110,
   "id": "2775aa46-9a6d-4858-8193-d78d8033ddc3",
   "metadata": {},
   "outputs": [
    {
     "data": {
      "text/html": [
       "<div>\n",
       "<style scoped>\n",
       "    .dataframe tbody tr th:only-of-type {\n",
       "        vertical-align: middle;\n",
       "    }\n",
       "\n",
       "    .dataframe tbody tr th {\n",
       "        vertical-align: top;\n",
       "    }\n",
       "\n",
       "    .dataframe thead th {\n",
       "        text-align: right;\n",
       "    }\n",
       "</style>\n",
       "<table border=\"1\" class=\"dataframe\">\n",
       "  <thead>\n",
       "    <tr style=\"text-align: right;\">\n",
       "      <th></th>\n",
       "      <th>clean_text</th>\n",
       "      <th>Category</th>\n",
       "    </tr>\n",
       "  </thead>\n",
       "  <tbody>\n",
       "    <tr>\n",
       "      <th>0</th>\n",
       "      <td>sure bashers pen fan pretty confused lack kind...</td>\n",
       "      <td>rec.sport.hockey</td>\n",
       "    </tr>\n",
       "    <tr>\n",
       "      <th>1</th>\n",
       "      <td>brother market high performance video card sup...</td>\n",
       "      <td>comp.sys.ibm.pc.hardware</td>\n",
       "    </tr>\n",
       "    <tr>\n",
       "      <th>2</th>\n",
       "      <td>finally said dream mediterranean new area grea...</td>\n",
       "      <td>talk.politics.mideast</td>\n",
       "    </tr>\n",
       "    <tr>\n",
       "      <th>3</th>\n",
       "      <td>think scsi card dma transfer disk scsi card dm...</td>\n",
       "      <td>comp.sys.ibm.pc.hardware</td>\n",
       "    </tr>\n",
       "    <tr>\n",
       "      <th>4</th>\n",
       "      <td>old jasmine drive cannot use new system unders...</td>\n",
       "      <td>comp.sys.mac.hardware</td>\n",
       "    </tr>\n",
       "  </tbody>\n",
       "</table>\n",
       "</div>"
      ],
      "text/plain": [
       "                                          clean_text                  Category\n",
       "0  sure bashers pen fan pretty confused lack kind...          rec.sport.hockey\n",
       "1  brother market high performance video card sup...  comp.sys.ibm.pc.hardware\n",
       "2  finally said dream mediterranean new area grea...     talk.politics.mideast\n",
       "3  think scsi card dma transfer disk scsi card dm...  comp.sys.ibm.pc.hardware\n",
       "4  old jasmine drive cannot use new system unders...     comp.sys.mac.hardware"
      ]
     },
     "execution_count": 110,
     "metadata": {},
     "output_type": "execute_result"
    }
   ],
   "source": [
    "# Show cleaned data\n",
    "df[['clean_text', 'Category']].head()"
   ]
  },
  {
   "cell_type": "code",
   "execution_count": 85,
   "id": "f13efa95-f882-4fe8-a8d1-a151263d394e",
   "metadata": {},
   "outputs": [
    {
     "data": {
      "text/html": [
       "<div>\n",
       "<style scoped>\n",
       "    .dataframe tbody tr th:only-of-type {\n",
       "        vertical-align: middle;\n",
       "    }\n",
       "\n",
       "    .dataframe tbody tr th {\n",
       "        vertical-align: top;\n",
       "    }\n",
       "\n",
       "    .dataframe thead th {\n",
       "        text-align: right;\n",
       "    }\n",
       "</style>\n",
       "<table border=\"1\" class=\"dataframe\">\n",
       "  <thead>\n",
       "    <tr style=\"text-align: right;\">\n",
       "      <th></th>\n",
       "      <th>Category</th>\n",
       "      <th>Text</th>\n",
       "      <th>clean_text</th>\n",
       "    </tr>\n",
       "  </thead>\n",
       "  <tbody>\n",
       "    <tr>\n",
       "      <th>0</th>\n",
       "      <td>rec.sport.hockey</td>\n",
       "      <td>\\n\\nI am sure some bashers of Pens fans are pr...</td>\n",
       "      <td>sure bashers pen fan pretty confused lack kind...</td>\n",
       "    </tr>\n",
       "    <tr>\n",
       "      <th>1</th>\n",
       "      <td>comp.sys.ibm.pc.hardware</td>\n",
       "      <td>My brother is in the market for a high-perform...</td>\n",
       "      <td>brother market high performance video card sup...</td>\n",
       "    </tr>\n",
       "    <tr>\n",
       "      <th>2</th>\n",
       "      <td>talk.politics.mideast</td>\n",
       "      <td>\\n\\n\\n\\n\\tFinally you said what you dream abou...</td>\n",
       "      <td>finally said dream mediterranean new area grea...</td>\n",
       "    </tr>\n",
       "    <tr>\n",
       "      <th>3</th>\n",
       "      <td>comp.sys.ibm.pc.hardware</td>\n",
       "      <td>\\nThink!\\n\\nIt's the SCSI card doing the DMA t...</td>\n",
       "      <td>think scsi card dma transfer disk scsi card dm...</td>\n",
       "    </tr>\n",
       "    <tr>\n",
       "      <th>4</th>\n",
       "      <td>comp.sys.mac.hardware</td>\n",
       "      <td>1)    I have an old Jasmine drive which I cann...</td>\n",
       "      <td>old jasmine drive cannot use new system unders...</td>\n",
       "    </tr>\n",
       "    <tr>\n",
       "      <th>...</th>\n",
       "      <td>...</td>\n",
       "      <td>...</td>\n",
       "      <td>...</td>\n",
       "    </tr>\n",
       "    <tr>\n",
       "      <th>18841</th>\n",
       "      <td>sci.med</td>\n",
       "      <td>DN&gt; From: nyeda@cnsvax.uwec.edu (David Nye)\\nD...</td>\n",
       "      <td>dn nyeda cnsvax uwec edu david nye dn neurolog...</td>\n",
       "    </tr>\n",
       "    <tr>\n",
       "      <th>18842</th>\n",
       "      <td>sci.electronics</td>\n",
       "      <td>\\nNot in isolated ground recepticles (usually ...</td>\n",
       "      <td>isolated ground recepticles usually unusual co...</td>\n",
       "    </tr>\n",
       "    <tr>\n",
       "      <th>18843</th>\n",
       "      <td>comp.sys.ibm.pc.hardware</td>\n",
       "      <td>I just installed a DX2-66 CPU in a clone mothe...</td>\n",
       "      <td>installed dx cpu clone motherboard tried mount...</td>\n",
       "    </tr>\n",
       "    <tr>\n",
       "      <th>18844</th>\n",
       "      <td>comp.graphics</td>\n",
       "      <td>\\nWouldn't this require a hyper-sphere.  In 3-...</td>\n",
       "      <td>require hyper sphere space point specifies sph...</td>\n",
       "    </tr>\n",
       "    <tr>\n",
       "      <th>18845</th>\n",
       "      <td>rec.autos</td>\n",
       "      <td>After a tip from Gary Crum (crum@fcom.cc.utah....</td>\n",
       "      <td>tip gary crum crum fcom cc utah edu got phone ...</td>\n",
       "    </tr>\n",
       "  </tbody>\n",
       "</table>\n",
       "<p>18466 rows × 3 columns</p>\n",
       "</div>"
      ],
      "text/plain": [
       "                       Category  \\\n",
       "0              rec.sport.hockey   \n",
       "1      comp.sys.ibm.pc.hardware   \n",
       "2         talk.politics.mideast   \n",
       "3      comp.sys.ibm.pc.hardware   \n",
       "4         comp.sys.mac.hardware   \n",
       "...                         ...   \n",
       "18841                   sci.med   \n",
       "18842           sci.electronics   \n",
       "18843  comp.sys.ibm.pc.hardware   \n",
       "18844             comp.graphics   \n",
       "18845                 rec.autos   \n",
       "\n",
       "                                                    Text  \\\n",
       "0      \\n\\nI am sure some bashers of Pens fans are pr...   \n",
       "1      My brother is in the market for a high-perform...   \n",
       "2      \\n\\n\\n\\n\\tFinally you said what you dream abou...   \n",
       "3      \\nThink!\\n\\nIt's the SCSI card doing the DMA t...   \n",
       "4      1)    I have an old Jasmine drive which I cann...   \n",
       "...                                                  ...   \n",
       "18841  DN> From: nyeda@cnsvax.uwec.edu (David Nye)\\nD...   \n",
       "18842  \\nNot in isolated ground recepticles (usually ...   \n",
       "18843  I just installed a DX2-66 CPU in a clone mothe...   \n",
       "18844  \\nWouldn't this require a hyper-sphere.  In 3-...   \n",
       "18845  After a tip from Gary Crum (crum@fcom.cc.utah....   \n",
       "\n",
       "                                              clean_text  \n",
       "0      sure bashers pen fan pretty confused lack kind...  \n",
       "1      brother market high performance video card sup...  \n",
       "2      finally said dream mediterranean new area grea...  \n",
       "3      think scsi card dma transfer disk scsi card dm...  \n",
       "4      old jasmine drive cannot use new system unders...  \n",
       "...                                                  ...  \n",
       "18841  dn nyeda cnsvax uwec edu david nye dn neurolog...  \n",
       "18842  isolated ground recepticles usually unusual co...  \n",
       "18843  installed dx cpu clone motherboard tried mount...  \n",
       "18844  require hyper sphere space point specifies sph...  \n",
       "18845  tip gary crum crum fcom cc utah edu got phone ...  \n",
       "\n",
       "[18466 rows x 3 columns]"
      ]
     },
     "execution_count": 85,
     "metadata": {},
     "output_type": "execute_result"
    }
   ],
   "source": [
    "# now, the data is clean \n",
    "df"
   ]
  },
  {
   "cell_type": "code",
   "execution_count": 88,
   "id": "8183ab47-96fe-4624-8994-b745f424211b",
   "metadata": {},
   "outputs": [],
   "source": [
    "df.drop(columns = 'Text', inplace = True)"
   ]
  },
  {
   "cell_type": "code",
   "execution_count": 90,
   "id": "74b5444a-be6d-45c5-9ec3-8782bc28b513",
   "metadata": {},
   "outputs": [
    {
     "data": {
      "text/html": [
       "<div>\n",
       "<style scoped>\n",
       "    .dataframe tbody tr th:only-of-type {\n",
       "        vertical-align: middle;\n",
       "    }\n",
       "\n",
       "    .dataframe tbody tr th {\n",
       "        vertical-align: top;\n",
       "    }\n",
       "\n",
       "    .dataframe thead th {\n",
       "        text-align: right;\n",
       "    }\n",
       "</style>\n",
       "<table border=\"1\" class=\"dataframe\">\n",
       "  <thead>\n",
       "    <tr style=\"text-align: right;\">\n",
       "      <th></th>\n",
       "      <th>Category</th>\n",
       "      <th>clean_text</th>\n",
       "    </tr>\n",
       "  </thead>\n",
       "  <tbody>\n",
       "    <tr>\n",
       "      <th>0</th>\n",
       "      <td>rec.sport.hockey</td>\n",
       "      <td>sure bashers pen fan pretty confused lack kind...</td>\n",
       "    </tr>\n",
       "    <tr>\n",
       "      <th>1</th>\n",
       "      <td>comp.sys.ibm.pc.hardware</td>\n",
       "      <td>brother market high performance video card sup...</td>\n",
       "    </tr>\n",
       "    <tr>\n",
       "      <th>2</th>\n",
       "      <td>talk.politics.mideast</td>\n",
       "      <td>finally said dream mediterranean new area grea...</td>\n",
       "    </tr>\n",
       "    <tr>\n",
       "      <th>3</th>\n",
       "      <td>comp.sys.ibm.pc.hardware</td>\n",
       "      <td>think scsi card dma transfer disk scsi card dm...</td>\n",
       "    </tr>\n",
       "    <tr>\n",
       "      <th>4</th>\n",
       "      <td>comp.sys.mac.hardware</td>\n",
       "      <td>old jasmine drive cannot use new system unders...</td>\n",
       "    </tr>\n",
       "    <tr>\n",
       "      <th>...</th>\n",
       "      <td>...</td>\n",
       "      <td>...</td>\n",
       "    </tr>\n",
       "    <tr>\n",
       "      <th>18841</th>\n",
       "      <td>sci.med</td>\n",
       "      <td>dn nyeda cnsvax uwec edu david nye dn neurolog...</td>\n",
       "    </tr>\n",
       "    <tr>\n",
       "      <th>18842</th>\n",
       "      <td>sci.electronics</td>\n",
       "      <td>isolated ground recepticles usually unusual co...</td>\n",
       "    </tr>\n",
       "    <tr>\n",
       "      <th>18843</th>\n",
       "      <td>comp.sys.ibm.pc.hardware</td>\n",
       "      <td>installed dx cpu clone motherboard tried mount...</td>\n",
       "    </tr>\n",
       "    <tr>\n",
       "      <th>18844</th>\n",
       "      <td>comp.graphics</td>\n",
       "      <td>require hyper sphere space point specifies sph...</td>\n",
       "    </tr>\n",
       "    <tr>\n",
       "      <th>18845</th>\n",
       "      <td>rec.autos</td>\n",
       "      <td>tip gary crum crum fcom cc utah edu got phone ...</td>\n",
       "    </tr>\n",
       "  </tbody>\n",
       "</table>\n",
       "<p>18466 rows × 2 columns</p>\n",
       "</div>"
      ],
      "text/plain": [
       "                       Category  \\\n",
       "0              rec.sport.hockey   \n",
       "1      comp.sys.ibm.pc.hardware   \n",
       "2         talk.politics.mideast   \n",
       "3      comp.sys.ibm.pc.hardware   \n",
       "4         comp.sys.mac.hardware   \n",
       "...                         ...   \n",
       "18841                   sci.med   \n",
       "18842           sci.electronics   \n",
       "18843  comp.sys.ibm.pc.hardware   \n",
       "18844             comp.graphics   \n",
       "18845                 rec.autos   \n",
       "\n",
       "                                              clean_text  \n",
       "0      sure bashers pen fan pretty confused lack kind...  \n",
       "1      brother market high performance video card sup...  \n",
       "2      finally said dream mediterranean new area grea...  \n",
       "3      think scsi card dma transfer disk scsi card dm...  \n",
       "4      old jasmine drive cannot use new system unders...  \n",
       "...                                                  ...  \n",
       "18841  dn nyeda cnsvax uwec edu david nye dn neurolog...  \n",
       "18842  isolated ground recepticles usually unusual co...  \n",
       "18843  installed dx cpu clone motherboard tried mount...  \n",
       "18844  require hyper sphere space point specifies sph...  \n",
       "18845  tip gary crum crum fcom cc utah edu got phone ...  \n",
       "\n",
       "[18466 rows x 2 columns]"
      ]
     },
     "execution_count": 90,
     "metadata": {},
     "output_type": "execute_result"
    }
   ],
   "source": [
    "df"
   ]
  },
  {
   "cell_type": "markdown",
   "id": "4aa28765-ef21-4e6a-80ec-e563dfd0a6c6",
   "metadata": {},
   "source": [
    "# Step 3: Vectorization & EDA"
   ]
  },
  {
   "cell_type": "code",
   "execution_count": null,
   "id": "3912bdd2-c8bc-43e3-a3ca-75dea0a51df8",
   "metadata": {},
   "outputs": [],
   "source": []
  }
 ],
 "metadata": {
  "kernelspec": {
   "display_name": "Python [conda env:base] *",
   "language": "python",
   "name": "conda-base-py"
  },
  "language_info": {
   "codemirror_mode": {
    "name": "ipython",
    "version": 3
   },
   "file_extension": ".py",
   "mimetype": "text/x-python",
   "name": "python",
   "nbconvert_exporter": "python",
   "pygments_lexer": "ipython3",
   "version": "3.12.7"
  }
 },
 "nbformat": 4,
 "nbformat_minor": 5
}
