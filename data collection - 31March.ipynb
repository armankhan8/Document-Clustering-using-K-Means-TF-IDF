{
 "cells": [
  {
   "cell_type": "code",
   "execution_count": null,
   "id": "a8122b07-f143-40da-b55d-f3e082deb168",
   "metadata": {},
   "outputs": [],
   "source": []
  }
 ],
 "metadata": {
  "kernelspec": {
   "display_name": "",
   "name": ""
  },
  "language_info": {
   "name": ""
  }
 },
 "nbformat": 4,
 "nbformat_minor": 5
}
