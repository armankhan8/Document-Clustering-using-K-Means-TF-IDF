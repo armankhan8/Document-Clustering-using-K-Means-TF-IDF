{
 "cells": [
  {
   "cell_type": "code",
   "execution_count": 18,
   "id": "3d04771c-ee83-4ba1-ac0f-00e39fe2e64b",
   "metadata": {},
   "outputs": [],
   "source": [
    "import numpy as np  \n",
    "import pandas as pd\n",
    "from sklearn.datasets import fetch_20newsgroups  "
   ]
  },
  {
   "cell_type": "code",
   "execution_count": 20,
   "id": "eeb98aef-af58-43b8-b4b3-1fb34041ba8f",
   "metadata": {},
   "outputs": [
    {
     "name": "stdout",
     "output_type": "stream",
     "text": [
      "Total Documents Loaded: 18846\n"
     ]
    }
   ],
   "source": [
    "# Load full 20 Newsgroups dataset\n",
    "newsgroups = fetch_20newsgroups(subset='all', remove=('headers', 'footers', 'quotes'))\n",
    "documents = newsgroups.data\n",
    "print(\"Total Documents Loaded:\", len(documents))"
   ]
  },
  {
   "cell_type": "code",
   "execution_count": 21,
   "id": "9e43e6f1-4218-4a43-926e-518029c5ad7f",
   "metadata": {},
   "outputs": [],
   "source": [
    "categories = newsgroups.target_names\n",
    "labels = newsgroups.target  # Numerical category labels"
   ]
  },
  {
   "cell_type": "code",
   "execution_count": 24,
   "id": "5788d711-6f27-4901-826e-a2768039c981",
   "metadata": {},
   "outputs": [],
   "source": [
    "# Create a DataFrame\n",
    "df = pd.DataFrame({'Category': [categories[label] for label in labels], 'Text': documents})"
   ]
  },
  {
   "cell_type": "code",
   "execution_count": 28,
   "id": "52297a30-9bdc-4033-9605-f1ec003ca629",
   "metadata": {},
   "outputs": [
    {
     "name": "stdout",
     "output_type": "stream",
     "text": [
      "Dataset saved as 20newsgroups_dataset.csv\n"
     ]
    }
   ],
   "source": [
    "# Save to CSV file\n",
    "df.to_csv('20newsgroups_dataset.csv', index=False, encoding='utf-8')\n",
    "print(\"Dataset saved as 20newsgroups_dataset.csv\")"
   ]
  },
  {
   "cell_type": "code",
   "execution_count": 30,
   "id": "9427201d-9cfb-414d-ad49-0cb1d3007ca7",
   "metadata": {},
   "outputs": [
    {
     "data": {
      "text/html": [
       "<div>\n",
       "<style scoped>\n",
       "    .dataframe tbody tr th:only-of-type {\n",
       "        vertical-align: middle;\n",
       "    }\n",
       "\n",
       "    .dataframe tbody tr th {\n",
       "        vertical-align: top;\n",
       "    }\n",
       "\n",
       "    .dataframe thead th {\n",
       "        text-align: right;\n",
       "    }\n",
       "</style>\n",
       "<table border=\"1\" class=\"dataframe\">\n",
       "  <thead>\n",
       "    <tr style=\"text-align: right;\">\n",
       "      <th></th>\n",
       "      <th>Category</th>\n",
       "      <th>Text</th>\n",
       "    </tr>\n",
       "  </thead>\n",
       "  <tbody>\n",
       "    <tr>\n",
       "      <th>0</th>\n",
       "      <td>rec.sport.hockey</td>\n",
       "      <td>\\n\\nI am sure some bashers of Pens fans are pr...</td>\n",
       "    </tr>\n",
       "    <tr>\n",
       "      <th>1</th>\n",
       "      <td>comp.sys.ibm.pc.hardware</td>\n",
       "      <td>My brother is in the market for a high-perform...</td>\n",
       "    </tr>\n",
       "    <tr>\n",
       "      <th>2</th>\n",
       "      <td>talk.politics.mideast</td>\n",
       "      <td>\\n\\n\\n\\n\\tFinally you said what you dream abou...</td>\n",
       "    </tr>\n",
       "    <tr>\n",
       "      <th>3</th>\n",
       "      <td>comp.sys.ibm.pc.hardware</td>\n",
       "      <td>\\nThink!\\n\\nIt's the SCSI card doing the DMA t...</td>\n",
       "    </tr>\n",
       "    <tr>\n",
       "      <th>4</th>\n",
       "      <td>comp.sys.mac.hardware</td>\n",
       "      <td>1)    I have an old Jasmine drive which I cann...</td>\n",
       "    </tr>\n",
       "    <tr>\n",
       "      <th>...</th>\n",
       "      <td>...</td>\n",
       "      <td>...</td>\n",
       "    </tr>\n",
       "    <tr>\n",
       "      <th>18841</th>\n",
       "      <td>sci.med</td>\n",
       "      <td>DN&gt; From: nyeda@cnsvax.uwec.edu (David Nye)\\nD...</td>\n",
       "    </tr>\n",
       "    <tr>\n",
       "      <th>18842</th>\n",
       "      <td>sci.electronics</td>\n",
       "      <td>\\nNot in isolated ground recepticles (usually ...</td>\n",
       "    </tr>\n",
       "    <tr>\n",
       "      <th>18843</th>\n",
       "      <td>comp.sys.ibm.pc.hardware</td>\n",
       "      <td>I just installed a DX2-66 CPU in a clone mothe...</td>\n",
       "    </tr>\n",
       "    <tr>\n",
       "      <th>18844</th>\n",
       "      <td>comp.graphics</td>\n",
       "      <td>\\nWouldn't this require a hyper-sphere.  In 3-...</td>\n",
       "    </tr>\n",
       "    <tr>\n",
       "      <th>18845</th>\n",
       "      <td>rec.autos</td>\n",
       "      <td>After a tip from Gary Crum (crum@fcom.cc.utah....</td>\n",
       "    </tr>\n",
       "  </tbody>\n",
       "</table>\n",
       "<p>18846 rows × 2 columns</p>\n",
       "</div>"
      ],
      "text/plain": [
       "                       Category  \\\n",
       "0              rec.sport.hockey   \n",
       "1      comp.sys.ibm.pc.hardware   \n",
       "2         talk.politics.mideast   \n",
       "3      comp.sys.ibm.pc.hardware   \n",
       "4         comp.sys.mac.hardware   \n",
       "...                         ...   \n",
       "18841                   sci.med   \n",
       "18842           sci.electronics   \n",
       "18843  comp.sys.ibm.pc.hardware   \n",
       "18844             comp.graphics   \n",
       "18845                 rec.autos   \n",
       "\n",
       "                                                    Text  \n",
       "0      \\n\\nI am sure some bashers of Pens fans are pr...  \n",
       "1      My brother is in the market for a high-perform...  \n",
       "2      \\n\\n\\n\\n\\tFinally you said what you dream abou...  \n",
       "3      \\nThink!\\n\\nIt's the SCSI card doing the DMA t...  \n",
       "4      1)    I have an old Jasmine drive which I cann...  \n",
       "...                                                  ...  \n",
       "18841  DN> From: nyeda@cnsvax.uwec.edu (David Nye)\\nD...  \n",
       "18842  \\nNot in isolated ground recepticles (usually ...  \n",
       "18843  I just installed a DX2-66 CPU in a clone mothe...  \n",
       "18844  \\nWouldn't this require a hyper-sphere.  In 3-...  \n",
       "18845  After a tip from Gary Crum (crum@fcom.cc.utah....  \n",
       "\n",
       "[18846 rows x 2 columns]"
      ]
     },
     "execution_count": 30,
     "metadata": {},
     "output_type": "execute_result"
    }
   ],
   "source": [
    "df"
   ]
  },
  {
   "cell_type": "code",
   "execution_count": null,
   "id": "21ec1892-f2a4-4b50-b08c-2f61f875714d",
   "metadata": {},
   "outputs": [],
   "source": []
  }
 ],
 "metadata": {
  "kernelspec": {
   "display_name": "Python [conda env:base] *",
   "language": "python",
   "name": "conda-base-py"
  },
  "language_info": {
   "codemirror_mode": {
    "name": "ipython",
    "version": 3
   },
   "file_extension": ".py",
   "mimetype": "text/x-python",
   "name": "python",
   "nbconvert_exporter": "python",
   "pygments_lexer": "ipython3",
   "version": "3.12.7"
  }
 },
 "nbformat": 4,
 "nbformat_minor": 5
}
